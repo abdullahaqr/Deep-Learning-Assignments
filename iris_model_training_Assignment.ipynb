{
 "cells": [
  {
   "cell_type": "markdown",
   "metadata": {},
   "source": [
    "# ASSIGNMENT : IRIS MULTI-CLASS CLASSIFICATION\n",
    "\n",
    "###### Purpose :\n",
    "To predict the species of flower .\n",
    "###### Description :\n",
    "The dataset contains a set of 150 records under 5 attributes - Petal Length, Petal Width, Sepal Length, Sepal width and Class(Species).\n",
    "###### Requirements :\n",
    "1) Code must be in tf 2.0 .\n",
    "\n",
    "2) Accuracy must be in between 95-97% .\n",
    "\n",
    "3) Model shouldn't be Overfit (You can add drop out layer for this) . "
   ]
  },
  {
   "cell_type": "markdown",
   "metadata": {},
   "source": [
    "### STEP 1 : Load all the necessary libraries  "
   ]
  },
  {
   "cell_type": "code",
   "execution_count": 91,
   "metadata": {},
   "outputs": [],
   "source": [
    "import tensorflow as tf\n",
    "import numpy as np\n",
    "import pandas as pd\n",
    "import sklearn"
   ]
  },
  {
   "cell_type": "markdown",
   "metadata": {},
   "source": [
    "### STEP 2 : Data Preparation\n",
    "This step consists of multiple sub steps from data loading [download](https://github.com/ramsha275/PIAIC-Sir-Anees-Quarter-2/blob/master/Deep%20Learning/iris.csv),shuffling ,spliting in **Train** and **Test** sets to one-hot-enconding on labels . \n",
    " "
   ]
  },
  {
   "cell_type": "code",
   "execution_count": 92,
   "metadata": {},
   "outputs": [
    {
     "data": {
      "text/html": [
       "<div>\n",
       "<style scoped>\n",
       "    .dataframe tbody tr th:only-of-type {\n",
       "        vertical-align: middle;\n",
       "    }\n",
       "\n",
       "    .dataframe tbody tr th {\n",
       "        vertical-align: top;\n",
       "    }\n",
       "\n",
       "    .dataframe thead th {\n",
       "        text-align: right;\n",
       "    }\n",
       "</style>\n",
       "<table border=\"1\" class=\"dataframe\">\n",
       "  <thead>\n",
       "    <tr style=\"text-align: right;\">\n",
       "      <th></th>\n",
       "      <th>sepal.length</th>\n",
       "      <th>sepal.width</th>\n",
       "      <th>petal.length</th>\n",
       "      <th>petal.width</th>\n",
       "      <th>variety</th>\n",
       "    </tr>\n",
       "  </thead>\n",
       "  <tbody>\n",
       "    <tr>\n",
       "      <td>0</td>\n",
       "      <td>5.1</td>\n",
       "      <td>3.5</td>\n",
       "      <td>1.4</td>\n",
       "      <td>0.2</td>\n",
       "      <td>Setosa</td>\n",
       "    </tr>\n",
       "    <tr>\n",
       "      <td>1</td>\n",
       "      <td>4.9</td>\n",
       "      <td>3.0</td>\n",
       "      <td>1.4</td>\n",
       "      <td>0.2</td>\n",
       "      <td>Setosa</td>\n",
       "    </tr>\n",
       "    <tr>\n",
       "      <td>2</td>\n",
       "      <td>4.7</td>\n",
       "      <td>3.2</td>\n",
       "      <td>1.3</td>\n",
       "      <td>0.2</td>\n",
       "      <td>Setosa</td>\n",
       "    </tr>\n",
       "    <tr>\n",
       "      <td>3</td>\n",
       "      <td>4.6</td>\n",
       "      <td>3.1</td>\n",
       "      <td>1.5</td>\n",
       "      <td>0.2</td>\n",
       "      <td>Setosa</td>\n",
       "    </tr>\n",
       "    <tr>\n",
       "      <td>4</td>\n",
       "      <td>5.0</td>\n",
       "      <td>3.6</td>\n",
       "      <td>1.4</td>\n",
       "      <td>0.2</td>\n",
       "      <td>Setosa</td>\n",
       "    </tr>\n",
       "  </tbody>\n",
       "</table>\n",
       "</div>"
      ],
      "text/plain": [
       "   sepal.length  sepal.width  petal.length  petal.width variety\n",
       "0           5.1          3.5           1.4          0.2  Setosa\n",
       "1           4.9          3.0           1.4          0.2  Setosa\n",
       "2           4.7          3.2           1.3          0.2  Setosa\n",
       "3           4.6          3.1           1.5          0.2  Setosa\n",
       "4           5.0          3.6           1.4          0.2  Setosa"
      ]
     },
     "execution_count": 92,
     "metadata": {},
     "output_type": "execute_result"
    }
   ],
   "source": [
    "iris_df = pd.read_csv(\"iris.csv\")\n",
    "iris_df.head()"
   ]
  },
  {
   "cell_type": "code",
   "execution_count": 93,
   "metadata": {},
   "outputs": [
    {
     "data": {
      "text/html": [
       "<div>\n",
       "<style scoped>\n",
       "    .dataframe tbody tr th:only-of-type {\n",
       "        vertical-align: middle;\n",
       "    }\n",
       "\n",
       "    .dataframe tbody tr th {\n",
       "        vertical-align: top;\n",
       "    }\n",
       "\n",
       "    .dataframe thead th {\n",
       "        text-align: right;\n",
       "    }\n",
       "</style>\n",
       "<table border=\"1\" class=\"dataframe\">\n",
       "  <thead>\n",
       "    <tr style=\"text-align: right;\">\n",
       "      <th></th>\n",
       "      <th>sepal.length</th>\n",
       "      <th>sepal.width</th>\n",
       "      <th>petal.length</th>\n",
       "      <th>petal.width</th>\n",
       "      <th>variety</th>\n",
       "    </tr>\n",
       "  </thead>\n",
       "  <tbody>\n",
       "    <tr>\n",
       "      <td>0</td>\n",
       "      <td>5.1</td>\n",
       "      <td>3.5</td>\n",
       "      <td>1.4</td>\n",
       "      <td>0.2</td>\n",
       "      <td>0</td>\n",
       "    </tr>\n",
       "    <tr>\n",
       "      <td>1</td>\n",
       "      <td>4.9</td>\n",
       "      <td>3.0</td>\n",
       "      <td>1.4</td>\n",
       "      <td>0.2</td>\n",
       "      <td>0</td>\n",
       "    </tr>\n",
       "    <tr>\n",
       "      <td>2</td>\n",
       "      <td>4.7</td>\n",
       "      <td>3.2</td>\n",
       "      <td>1.3</td>\n",
       "      <td>0.2</td>\n",
       "      <td>0</td>\n",
       "    </tr>\n",
       "    <tr>\n",
       "      <td>3</td>\n",
       "      <td>4.6</td>\n",
       "      <td>3.1</td>\n",
       "      <td>1.5</td>\n",
       "      <td>0.2</td>\n",
       "      <td>0</td>\n",
       "    </tr>\n",
       "    <tr>\n",
       "      <td>4</td>\n",
       "      <td>5.0</td>\n",
       "      <td>3.6</td>\n",
       "      <td>1.4</td>\n",
       "      <td>0.2</td>\n",
       "      <td>0</td>\n",
       "    </tr>\n",
       "  </tbody>\n",
       "</table>\n",
       "</div>"
      ],
      "text/plain": [
       "   sepal.length  sepal.width  petal.length  petal.width  variety\n",
       "0           5.1          3.5           1.4          0.2        0\n",
       "1           4.9          3.0           1.4          0.2        0\n",
       "2           4.7          3.2           1.3          0.2        0\n",
       "3           4.6          3.1           1.5          0.2        0\n",
       "4           5.0          3.6           1.4          0.2        0"
      ]
     },
     "execution_count": 93,
     "metadata": {},
     "output_type": "execute_result"
    }
   ],
   "source": [
    "iris_df = iris_df.replace(['Setosa','Versicolor','Virginica'], [0,1,2])\n",
    "iris_df.head()"
   ]
  },
  {
   "cell_type": "code",
   "execution_count": 94,
   "metadata": {},
   "outputs": [],
   "source": [
    "iris_df = sklearn.utils.shuffle(iris_df)\n",
    "x_train = np.array(iris_df[:113].drop([\"variety\"],axis=1)) # training dataframe \n",
    "y_train = np.array(iris_df[:113][\"variety\"])             # training labels   # y = labels\n",
    "x_test = np.array(iris_df[113:].drop([\"variety\"],axis=1))  # test dataframe\n",
    "y_test = np.array(iris_df[113:][\"variety\"])              # test labels       "
   ]
  },
  {
   "cell_type": "code",
   "execution_count": 95,
   "metadata": {},
   "outputs": [],
   "source": [
    "y_train = tf.keras.utils.to_categorical(y_train)\n",
    "y_test = tf.keras.utils.to_categorical(y_test)"
   ]
  },
  {
   "cell_type": "markdown",
   "metadata": {},
   "source": [
    "### STEP 3 : Model Architecture \n",
    "\n",
    "\n",
    "###### Input : 4 \n",
    "###### 1 hidden Layer : 8 nodes\n",
    "###### Output : 3"
   ]
  },
  {
   "cell_type": "code",
   "execution_count": 96,
   "metadata": {},
   "outputs": [],
   "source": [
    "model = tf.keras.models.Sequential([\n",
    "  tf.keras.layers.Dense(128, activation='relu', input_shape=(4,)),\n",
    "  tf.keras.layers.Dense(3, activation='softmax')\n",
    "])"
   ]
  },
  {
   "cell_type": "markdown",
   "metadata": {},
   "source": [
    "### STEP 4 : Compilation Step "
   ]
  },
  {
   "cell_type": "code",
   "execution_count": 97,
   "metadata": {},
   "outputs": [],
   "source": [
    "model.compile(optimizer='adam',\n",
    "              loss='categorical_crossentropy',\n",
    "              metrics=['accuracy'])"
   ]
  },
  {
   "cell_type": "code",
   "execution_count": 98,
   "metadata": {},
   "outputs": [
    {
     "name": "stdout",
     "output_type": "stream",
     "text": [
      "Train on 113 samples\n",
      "Epoch 1/25\n",
      "113/113 [==============================] - 1s 10ms/sample - loss: 1.4108 - accuracy: 0.3186\n",
      "Epoch 2/25\n",
      "113/113 [==============================] - 0s 168us/sample - loss: 1.2094 - accuracy: 0.1858\n",
      "Epoch 3/25\n",
      "113/113 [==============================] - 0s 104us/sample - loss: 1.1231 - accuracy: 0.3363\n",
      "Epoch 4/25\n",
      "113/113 [==============================] - 0s 186us/sample - loss: 1.0820 - accuracy: 0.5133\n",
      "Epoch 5/25\n",
      "113/113 [==============================] - 0s 177us/sample - loss: 1.0562 - accuracy: 0.3894\n",
      "Epoch 6/25\n",
      "113/113 [==============================] - 0s 168us/sample - loss: 1.0171 - accuracy: 0.4956\n",
      "Epoch 7/25\n",
      "113/113 [==============================] - 0s 177us/sample - loss: 0.9687 - accuracy: 0.5487\n",
      "Epoch 8/25\n",
      "113/113 [==============================] - 0s 142us/sample - loss: 0.9245 - accuracy: 0.4513\n",
      "Epoch 9/25\n",
      "113/113 [==============================] - 0s 153us/sample - loss: 0.8901 - accuracy: 0.5044\n",
      "Epoch 10/25\n",
      "113/113 [==============================] - 0s 174us/sample - loss: 0.8593 - accuracy: 0.6637\n",
      "Epoch 11/25\n",
      "113/113 [==============================] - 0s 158us/sample - loss: 0.8281 - accuracy: 0.6991\n",
      "Epoch 12/25\n",
      "113/113 [==============================] - 0s 176us/sample - loss: 0.7969 - accuracy: 0.7434\n",
      "Epoch 13/25\n",
      "113/113 [==============================] - 0s 176us/sample - loss: 0.7703 - accuracy: 0.8230\n",
      "Epoch 14/25\n",
      "113/113 [==============================] - 0s 201us/sample - loss: 0.7450 - accuracy: 0.9115\n",
      "Epoch 15/25\n",
      "113/113 [==============================] - 0s 202us/sample - loss: 0.7188 - accuracy: 0.9558\n",
      "Epoch 16/25\n",
      "113/113 [==============================] - 0s 168us/sample - loss: 0.6964 - accuracy: 0.9115\n",
      "Epoch 17/25\n",
      "113/113 [==============================] - 0s 169us/sample - loss: 0.6748 - accuracy: 0.8496\n",
      "Epoch 18/25\n",
      "113/113 [==============================] - 0s 193us/sample - loss: 0.6551 - accuracy: 0.8673\n",
      "Epoch 19/25\n",
      "113/113 [==============================] - 0s 177us/sample - loss: 0.6362 - accuracy: 0.9292\n",
      "Epoch 20/25\n",
      "113/113 [==============================] - 0s 177us/sample - loss: 0.6186 - accuracy: 0.9646\n",
      "Epoch 21/25\n",
      "113/113 [==============================] - 0s 170us/sample - loss: 0.6056 - accuracy: 0.9558\n",
      "Epoch 22/25\n",
      "113/113 [==============================] - ETA: 0s - loss: 0.5549 - accuracy: 0.96 - 0s 185us/sample - loss: 0.5876 - accuracy: 0.9469\n",
      "Epoch 23/25\n",
      "113/113 [==============================] - 0s 172us/sample - loss: 0.5725 - accuracy: 0.9558\n",
      "Epoch 24/25\n",
      "113/113 [==============================] - 0s 194us/sample - loss: 0.5601 - accuracy: 0.8938\n",
      "Epoch 25/25\n",
      "113/113 [==============================] - 0s 119us/sample - loss: 0.5441 - accuracy: 0.9381\n"
     ]
    },
    {
     "data": {
      "text/plain": [
       "<tensorflow.python.keras.callbacks.History at 0x242fbf30448>"
      ]
     },
     "execution_count": 98,
     "metadata": {},
     "output_type": "execute_result"
    }
   ],
   "source": [
    "model.fit(x_train, y_train, epochs=25)"
   ]
  },
  {
   "cell_type": "markdown",
   "metadata": {},
   "source": [
    "### STEP 5 : Evaluation  "
   ]
  },
  {
   "cell_type": "code",
   "execution_count": 99,
   "metadata": {},
   "outputs": [
    {
     "name": "stdout",
     "output_type": "stream",
     "text": [
      "37/1 - 0s - loss: 0.4941 - accuracy: 0.9730\n"
     ]
    }
   ],
   "source": [
    "evaluation = model.evaluate(x_test,  y_test, verbose=2)"
   ]
  },
  {
   "cell_type": "markdown",
   "metadata": {},
   "source": [
    "### STEP 6 : Prediction "
   ]
  },
  {
   "cell_type": "code",
   "execution_count": 100,
   "metadata": {},
   "outputs": [
    {
     "name": "stdout",
     "output_type": "stream",
     "text": [
      "Actual values : Real Value   Prediction   \n",
      "                [1. 0. 0.] =     0      = Setosa\n",
      "                [0. 1. 0.] =     1      = Versicolor\n",
      "                [0. 0. 1.] =     2      = Virginica\n",
      "\n",
      "Prediction :\n",
      "\n",
      "->Real value : [1. 0. 0.]\n",
      "\n",
      "->Predicted value : [0]\n"
     ]
    }
   ],
   "source": [
    "print('''Actual values : Real Value   Prediction   \n",
    "                [1. 0. 0.] =     0      = Setosa\n",
    "                [0. 1. 0.] =     1      = Versicolor\n",
    "                [0. 0. 1.] =     2      = Virginica''')\n",
    "print(\"\\nPrediction :\")\n",
    "print(\"\\n->Real value :\",y_test[14])\n",
    "print(\"\\n->Predicted value :\",model.predict_classes(x_test[[14]]))"
   ]
  },
  {
   "cell_type": "code",
   "execution_count": null,
   "metadata": {},
   "outputs": [],
   "source": []
  },
  {
   "cell_type": "code",
   "execution_count": null,
   "metadata": {},
   "outputs": [],
   "source": []
  },
  {
   "cell_type": "code",
   "execution_count": null,
   "metadata": {},
   "outputs": [],
   "source": []
  }
 ],
 "metadata": {
  "kernelspec": {
   "display_name": "Python [conda env:root] *",
   "language": "python",
   "name": "conda-root-py"
  },
  "language_info": {
   "codemirror_mode": {
    "name": "ipython",
    "version": 3
   },
   "file_extension": ".py",
   "mimetype": "text/x-python",
   "name": "python",
   "nbconvert_exporter": "python",
   "pygments_lexer": "ipython3",
   "version": "3.7.4"
  }
 },
 "nbformat": 4,
 "nbformat_minor": 2
}
