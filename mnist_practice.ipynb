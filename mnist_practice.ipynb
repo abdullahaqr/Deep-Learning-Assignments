{
  "nbformat": 4,
  "nbformat_minor": 0,
  "metadata": {
    "colab": {
      "name": "mnist-practice.ipynb",
      "provenance": [],
      "authorship_tag": "ABX9TyNds6akx1ztAnrWfaq7GDXR",
      "include_colab_link": true
    },
    "kernelspec": {
      "name": "python3",
      "display_name": "Python 3"
    },
    "accelerator": "GPU"
  },
  "cells": [
    {
      "cell_type": "markdown",
      "metadata": {
        "id": "view-in-github",
        "colab_type": "text"
      },
      "source": [
        "<a href=\"https://colab.research.google.com/github/abdullahaqr/Deep-Learning-Assignments/blob/master/mnist_practice.ipynb\" target=\"_parent\"><img src=\"https://colab.research.google.com/assets/colab-badge.svg\" alt=\"Open In Colab\"/></a>"
      ]
    },
    {
      "cell_type": "code",
      "metadata": {
        "id": "dHgceLX_Bf4y",
        "colab": {
          "base_uri": "https://localhost:8080/"
        },
        "outputId": "759d3177-2d13-4f55-dc22-818584dff753"
      },
      "source": [
        "from keras.datasets import mnist\n",
        "\n",
        "(train_images, train_labels), (test_images, test_labels) = mnist.load_data()"
      ],
      "execution_count": 1,
      "outputs": [
        {
          "output_type": "stream",
          "text": [
            "Downloading data from https://storage.googleapis.com/tensorflow/tf-keras-datasets/mnist.npz\n",
            "11493376/11490434 [==============================] - 0s 0us/step\n",
            "11501568/11490434 [==============================] - 0s 0us/step\n"
          ],
          "name": "stdout"
        }
      ]
    },
    {
      "cell_type": "code",
      "metadata": {
        "id": "zVjR5e54HVSL",
        "colab": {
          "base_uri": "https://localhost:8080/"
        },
        "outputId": "6d73e3bd-b9c0-43cb-e9de-64829c87902e"
      },
      "source": [
        "train_images.shape"
      ],
      "execution_count": 2,
      "outputs": [
        {
          "output_type": "execute_result",
          "data": {
            "text/plain": [
              "(60000, 28, 28)"
            ]
          },
          "metadata": {
            "tags": []
          },
          "execution_count": 2
        }
      ]
    },
    {
      "cell_type": "code",
      "metadata": {
        "id": "IFH9stexHVke",
        "colab": {
          "base_uri": "https://localhost:8080/"
        },
        "outputId": "ae41f136-a95e-4f94-fe68-27cf5cfe3ff7"
      },
      "source": [
        "len(train_labels)"
      ],
      "execution_count": 3,
      "outputs": [
        {
          "output_type": "execute_result",
          "data": {
            "text/plain": [
              "60000"
            ]
          },
          "metadata": {
            "tags": []
          },
          "execution_count": 3
        }
      ]
    },
    {
      "cell_type": "code",
      "metadata": {
        "id": "OaXevVHVHYNw",
        "colab": {
          "base_uri": "https://localhost:8080/"
        },
        "outputId": "05d94cba-8547-48f5-816b-8efcb9da22e6"
      },
      "source": [
        "train_labels"
      ],
      "execution_count": 4,
      "outputs": [
        {
          "output_type": "execute_result",
          "data": {
            "text/plain": [
              "array([5, 0, 4, ..., 5, 6, 8], dtype=uint8)"
            ]
          },
          "metadata": {
            "tags": []
          },
          "execution_count": 4
        }
      ]
    },
    {
      "cell_type": "code",
      "metadata": {
        "id": "xLTAyPgRHYfZ",
        "colab": {
          "base_uri": "https://localhost:8080/"
        },
        "outputId": "c0d4267a-8084-4382-cbf9-aeafb6e5c5a4"
      },
      "source": [
        "test_images.shape"
      ],
      "execution_count": 5,
      "outputs": [
        {
          "output_type": "execute_result",
          "data": {
            "text/plain": [
              "(10000, 28, 28)"
            ]
          },
          "metadata": {
            "tags": []
          },
          "execution_count": 5
        }
      ]
    },
    {
      "cell_type": "code",
      "metadata": {
        "id": "7-ak5ZUiHYyB",
        "colab": {
          "base_uri": "https://localhost:8080/"
        },
        "outputId": "f84d0847-6542-4619-8f8e-b1553487ff75"
      },
      "source": [
        " len(test_labels)"
      ],
      "execution_count": 6,
      "outputs": [
        {
          "output_type": "execute_result",
          "data": {
            "text/plain": [
              "10000"
            ]
          },
          "metadata": {
            "tags": []
          },
          "execution_count": 6
        }
      ]
    },
    {
      "cell_type": "code",
      "metadata": {
        "id": "U2YSKwUZHZDY",
        "colab": {
          "base_uri": "https://localhost:8080/"
        },
        "outputId": "02e85aa8-062a-44bd-ed2d-f7d211d4a4dd"
      },
      "source": [
        "test_labels"
      ],
      "execution_count": 7,
      "outputs": [
        {
          "output_type": "execute_result",
          "data": {
            "text/plain": [
              "array([7, 2, 1, ..., 4, 5, 6], dtype=uint8)"
            ]
          },
          "metadata": {
            "tags": []
          },
          "execution_count": 7
        }
      ]
    },
    {
      "cell_type": "markdown",
      "metadata": {
        "id": "6w_2wJh6Hv7-"
      },
      "source": [
        "The Network Architecture "
      ]
    },
    {
      "cell_type": "code",
      "metadata": {
        "id": "dMBQ-9Y3HwI5"
      },
      "source": [
        "from keras import models\n",
        "from keras import layers\n",
        "\n",
        "network = models.Sequential()\n",
        "network.add(layers.Dense(512, activation='relu', input_shape=(28 * 28,)))\n",
        "network.add(layers.Dense(10, activation='softmax'))"
      ],
      "execution_count": 8,
      "outputs": []
    },
    {
      "cell_type": "markdown",
      "metadata": {
        "id": "kApHyFESHwuP"
      },
      "source": [
        "The Compilation Step"
      ]
    },
    {
      "cell_type": "code",
      "metadata": {
        "id": "Nmx3C1I1Hw7C"
      },
      "source": [
        "network.compile(optimizer='rmsprop',\n",
        "loss='categorical_crossentropy',\n",
        "metrics=['accuracy'])"
      ],
      "execution_count": 9,
      "outputs": []
    },
    {
      "cell_type": "markdown",
      "metadata": {
        "id": "uFXTf2_lH1Sq"
      },
      "source": [
        "Preparing the Image Data"
      ]
    },
    {
      "cell_type": "code",
      "metadata": {
        "id": "23etjfjlHzXd"
      },
      "source": [
        "train_images = train_images.reshape((60000, 28 * 28))\n",
        "train_images = train_images.astype('float32') / 255\n",
        "test_images = test_images.reshape((10000, 28 * 28))\n",
        "test_images = test_images.astype('float32') / 255"
      ],
      "execution_count": 10,
      "outputs": []
    },
    {
      "cell_type": "markdown",
      "metadata": {
        "id": "87YtsX4vIQ2M"
      },
      "source": [
        "Preparing the Labels "
      ]
    },
    {
      "cell_type": "code",
      "metadata": {
        "id": "P-00Qfl3IVHH"
      },
      "source": [
        "from tensorflow.keras.utils import to_categorical\n",
        "\n",
        "train_labels = to_categorical(train_labels)\n",
        "test_labels = to_categorical(test_labels)"
      ],
      "execution_count": 11,
      "outputs": []
    },
    {
      "cell_type": "code",
      "metadata": {
        "id": "50L7ONnSxiVK",
        "colab": {
          "base_uri": "https://localhost:8080/"
        },
        "outputId": "fe8a0985-ef0d-42c6-cf25-675f5db00e55"
      },
      "source": [
        "train_labels"
      ],
      "execution_count": 12,
      "outputs": [
        {
          "output_type": "execute_result",
          "data": {
            "text/plain": [
              "array([[0., 0., 0., ..., 0., 0., 0.],\n",
              "       [1., 0., 0., ..., 0., 0., 0.],\n",
              "       [0., 0., 0., ..., 0., 0., 0.],\n",
              "       ...,\n",
              "       [0., 0., 0., ..., 0., 0., 0.],\n",
              "       [0., 0., 0., ..., 0., 0., 0.],\n",
              "       [0., 0., 0., ..., 0., 1., 0.]], dtype=float32)"
            ]
          },
          "metadata": {
            "tags": []
          },
          "execution_count": 12
        }
      ]
    },
    {
      "cell_type": "markdown",
      "metadata": {
        "id": "gViJm2JTIWGA"
      },
      "source": [
        "Training The Data  "
      ]
    },
    {
      "cell_type": "code",
      "metadata": {
        "id": "NqrT3PRZIW3G",
        "colab": {
          "base_uri": "https://localhost:8080/"
        },
        "outputId": "4d8e3d27-5922-43fa-8bd4-e86036da657d"
      },
      "source": [
        "network.fit(train_images, train_labels, epochs=5, batch_size=128)"
      ],
      "execution_count": 13,
      "outputs": [
        {
          "output_type": "stream",
          "text": [
            "Epoch 1/5\n",
            "469/469 [==============================] - 15s 3ms/step - loss: 0.4278 - accuracy: 0.8754\n",
            "Epoch 2/5\n",
            "469/469 [==============================] - 1s 3ms/step - loss: 0.1086 - accuracy: 0.9683\n",
            "Epoch 3/5\n",
            "469/469 [==============================] - 1s 3ms/step - loss: 0.0669 - accuracy: 0.9799\n",
            "Epoch 4/5\n",
            "469/469 [==============================] - 1s 3ms/step - loss: 0.0491 - accuracy: 0.9854\n",
            "Epoch 5/5\n",
            "469/469 [==============================] - 1s 3ms/step - loss: 0.0374 - accuracy: 0.9886\n"
          ],
          "name": "stdout"
        },
        {
          "output_type": "execute_result",
          "data": {
            "text/plain": [
              "<keras.callbacks.History at 0x7f40d00f4750>"
            ]
          },
          "metadata": {
            "tags": []
          },
          "execution_count": 13
        }
      ]
    },
    {
      "cell_type": "markdown",
      "metadata": {
        "id": "8c0BAfJbIco3"
      },
      "source": [
        "Testing The Model"
      ]
    },
    {
      "cell_type": "code",
      "metadata": {
        "id": "GbxlS6KrIdKK",
        "colab": {
          "base_uri": "https://localhost:8080/"
        },
        "outputId": "195a1602-6059-4a6f-901a-fb9eafd21bb5"
      },
      "source": [
        "test_loss, test_acc = network.evaluate(test_images, test_labels)\n",
        "print('test_acc:', test_acc)"
      ],
      "execution_count": 14,
      "outputs": [
        {
          "output_type": "stream",
          "text": [
            "313/313 [==============================] - 1s 2ms/step - loss: 0.0710 - accuracy: 0.9786\n",
            "test_acc: 0.978600025177002\n"
          ],
          "name": "stdout"
        }
      ]
    },
    {
      "cell_type": "code",
      "metadata": {
        "id": "TEYQ70qtI-to"
      },
      "source": [
        ""
      ],
      "execution_count": 14,
      "outputs": []
    }
  ]
}